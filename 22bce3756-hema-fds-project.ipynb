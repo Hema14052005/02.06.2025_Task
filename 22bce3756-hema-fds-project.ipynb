{
 "cells": [
  {
   "cell_type": "code",
   "execution_count": 1,
   "id": "3e4b21ab",
   "metadata": {
    "_cell_guid": "b1076dfc-b9ad-4769-8c92-a6c4dae69d19",
    "_uuid": "8f2839f25d086af736a60e9eeb907d3b93b6e0e5",
    "execution": {
     "iopub.execute_input": "2025-09-24T08:13:15.980047Z",
     "iopub.status.busy": "2025-09-24T08:13:15.979746Z",
     "iopub.status.idle": "2025-09-24T08:13:17.992462Z",
     "shell.execute_reply": "2025-09-24T08:13:17.991382Z"
    },
    "papermill": {
     "duration": 2.018808,
     "end_time": "2025-09-24T08:13:17.994076",
     "exception": false,
     "start_time": "2025-09-24T08:13:15.975268",
     "status": "completed"
    },
    "tags": []
   },
   "outputs": [
    {
     "name": "stdout",
     "output_type": "stream",
     "text": [
      "Shape of dataset: (33126, 8)\n",
      "\n",
      "Features (columns):\n",
      "['image_name', 'patient_id', 'sex', 'age_approx', 'anatom_site_general_challenge', 'diagnosis', 'benign_malignant', 'target']\n",
      "\n",
      "Sample rows:\n",
      "     image_name  patient_id     sex  age_approx anatom_site_general_challenge  \\\n",
      "0  ISIC_2637011  IP_7279968    male        45.0                     head/neck   \n",
      "1  ISIC_0015719  IP_3075186  female        45.0               upper extremity   \n",
      "2  ISIC_0052212  IP_2842074  female        50.0               lower extremity   \n",
      "3  ISIC_0068279  IP_6890425  female        45.0                     head/neck   \n",
      "4  ISIC_0074268  IP_8723313  female        55.0               upper extremity   \n",
      "\n",
      "  diagnosis benign_malignant  target  \n",
      "0   unknown           benign       0  \n",
      "1   unknown           benign       0  \n",
      "2     nevus           benign       0  \n",
      "3   unknown           benign       0  \n",
      "4   unknown           benign       0  \n"
     ]
    }
   ],
   "source": [
    "import pandas as pd\n",
    "csv_path = \"/kaggle/input/siim-isic-melanoma-classification/train.csv\"\n",
    "df = pd.read_csv(csv_path)\n",
    "# Shape (rows, columns)\n",
    "print(\"Shape of dataset:\", df.shape)\n",
    "print(\"\\nFeatures (columns):\")\n",
    "print(df.columns.tolist())\n",
    "# Show first 5 rows\n",
    "print(\"\\nSample rows:\")\n",
    "print(df.head())\n"
   ]
  },
  {
   "cell_type": "code",
   "execution_count": 2,
   "id": "0ec0b0fe",
   "metadata": {
    "execution": {
     "iopub.execute_input": "2025-09-24T08:13:18.001855Z",
     "iopub.status.busy": "2025-09-24T08:13:18.001571Z",
     "iopub.status.idle": "2025-09-24T08:13:18.426302Z",
     "shell.execute_reply": "2025-09-24T08:13:18.425154Z"
    },
    "papermill": {
     "duration": 0.430206,
     "end_time": "2025-09-24T08:13:18.427938",
     "exception": false,
     "start_time": "2025-09-24T08:13:17.997732",
     "status": "completed"
    },
    "tags": []
   },
   "outputs": [
    {
     "name": "stdout",
     "output_type": "stream",
     "text": [
      "Total image files found: 33126\n",
      "First 5 files: [PosixPath('/kaggle/input/siim-isic-melanoma-classification/jpeg/train/ISIC_2801761.jpg'), PosixPath('/kaggle/input/siim-isic-melanoma-classification/jpeg/train/ISIC_4442506.jpg'), PosixPath('/kaggle/input/siim-isic-melanoma-classification/jpeg/train/ISIC_0375775.jpg'), PosixPath('/kaggle/input/siim-isic-melanoma-classification/jpeg/train/ISIC_9054603.jpg'), PosixPath('/kaggle/input/siim-isic-melanoma-classification/jpeg/train/ISIC_1691175.jpg')]\n"
     ]
    }
   ],
   "source": [
    "import os\n",
    "from pathlib import Path\n",
    "\n",
    "DATASET_DIR = \"/kaggle/input/siim-isic-melanoma-classification/jpeg/train\"\n",
    "\n",
    "files = list(Path(DATASET_DIR).glob(\"*.jpg\"))\n",
    "print(\"Total image files found:\", len(files))\n",
    "print(\"First 5 files:\", files[:5])\n"
   ]
  },
  {
   "cell_type": "code",
   "execution_count": 3,
   "id": "5414ed4a",
   "metadata": {
    "execution": {
     "iopub.execute_input": "2025-09-24T08:13:18.436002Z",
     "iopub.status.busy": "2025-09-24T08:13:18.435703Z",
     "iopub.status.idle": "2025-09-24T08:13:18.752255Z",
     "shell.execute_reply": "2025-09-24T08:13:18.751020Z"
    },
    "papermill": {
     "duration": 0.322687,
     "end_time": "2025-09-24T08:13:18.753895",
     "exception": false,
     "start_time": "2025-09-24T08:13:18.431208",
     "status": "completed"
    },
    "tags": []
   },
   "outputs": [
    {
     "name": "stdout",
     "output_type": "stream",
     "text": [
      "     image_name  patient_id     sex  age_approx anatom_site_general_challenge  \\\n",
      "0  ISIC_2637011  IP_7279968    male        45.0                     head/neck   \n",
      "1  ISIC_0015719  IP_3075186  female        45.0               upper extremity   \n",
      "2  ISIC_0052212  IP_2842074  female        50.0               lower extremity   \n",
      "3  ISIC_0068279  IP_6890425  female        45.0                     head/neck   \n",
      "4  ISIC_0074268  IP_8723313  female        55.0               upper extremity   \n",
      "\n",
      "  diagnosis benign_malignant  target  \\\n",
      "0   unknown           benign       0   \n",
      "1   unknown           benign       0   \n",
      "2     nevus           benign       0   \n",
      "3   unknown           benign       0   \n",
      "4   unknown           benign       0   \n",
      "\n",
      "                                          image_path  \n",
      "0  /kaggle/input/siim-isic-melanoma-classificatio...  \n",
      "1  /kaggle/input/siim-isic-melanoma-classificatio...  \n",
      "2  /kaggle/input/siim-isic-melanoma-classificatio...  \n",
      "3  /kaggle/input/siim-isic-melanoma-classificatio...  \n",
      "4  /kaggle/input/siim-isic-melanoma-classificatio...  \n"
     ]
    }
   ],
   "source": [
    "import pandas as pd\n",
    "from pathlib import Path\n",
    "\n",
    "csv_path = \"/kaggle/input/siim-isic-melanoma-classification/train.csv\"\n",
    "df = pd.read_csv(csv_path)\n",
    "# Add full image path column\n",
    "DATASET_DIR = \"/kaggle/input/siim-isic-melanoma-classification/jpeg/train\"\n",
    "df[\"image_path\"] = df[\"image_name\"].apply(lambda x: str(Path(DATASET_DIR) / f\"{x}.jpg\"))\n",
    "\n",
    "print(df.head())\n"
   ]
  },
  {
   "cell_type": "code",
   "execution_count": 4,
   "id": "b8f4961d",
   "metadata": {
    "execution": {
     "iopub.execute_input": "2025-09-24T08:13:18.762004Z",
     "iopub.status.busy": "2025-09-24T08:13:18.761280Z",
     "iopub.status.idle": "2025-09-24T08:13:37.607276Z",
     "shell.execute_reply": "2025-09-24T08:13:37.606304Z"
    },
    "papermill": {
     "duration": 18.851852,
     "end_time": "2025-09-24T08:13:37.609010",
     "exception": false,
     "start_time": "2025-09-24T08:13:18.757158",
     "status": "completed"
    },
    "tags": []
   },
   "outputs": [
    {
     "name": "stderr",
     "output_type": "stream",
     "text": [
      "2025-09-24 08:13:21.127406: E external/local_xla/xla/stream_executor/cuda/cuda_fft.cc:477] Unable to register cuFFT factory: Attempting to register factory for plugin cuFFT when one has already been registered\n",
      "WARNING: All log messages before absl::InitializeLog() is called are written to STDERR\n",
      "E0000 00:00:1758701601.376173      13 cuda_dnn.cc:8310] Unable to register cuDNN factory: Attempting to register factory for plugin cuDNN when one has already been registered\n",
      "E0000 00:00:1758701601.448266      13 cuda_blas.cc:1418] Unable to register cuBLAS factory: Attempting to register factory for plugin cuBLAS when one has already been registered\n"
     ]
    }
   ],
   "source": [
    "#1.Imports + Config\n",
    "import os, shutil, hashlib\n",
    "from pathlib import Path\n",
    "from PIL import Image\n",
    "import numpy as np\n",
    "import cv2\n",
    "import pandas as pd\n",
    "from tensorflow.keras.preprocessing.image import ImageDataGenerator, img_to_array, array_to_img, load_img, save_img\n",
    "\n",
    "# Configuration\n",
    "CSV_PATH = \"/kaggle/input/siim-isic-melanoma-classification/train.csv\"\n",
    "DATASET_DIR = \"/kaggle/input/siim-isic-melanoma-classification/jpeg/train\"\n",
    "OUTPUT_DIR = Path(\"/kaggle/working/output\")\n",
    "\n",
    "IMAGE_SIZE = (224, 224)   \n",
    "\n",
    "AUGMENT_TO_BALANCE = True\n",
    "MAX_AUG_PER_IMAGE = 3\n",
    "TARGET_PER_CLASS = 2000\n",
    "\n",
    "os.makedirs(OUTPUT_DIR, exist_ok=True)\n",
    "quarantine_dir = Path(OUTPUT_DIR) / \"quarantine\"\n",
    "quarantine_dir.mkdir(parents=True, exist_ok=True)\n"
   ]
  },
  {
   "cell_type": "code",
   "execution_count": 5,
   "id": "f216ebca",
   "metadata": {
    "execution": {
     "iopub.execute_input": "2025-09-24T08:13:37.618548Z",
     "iopub.status.busy": "2025-09-24T08:13:37.617466Z",
     "iopub.status.idle": "2025-09-24T08:13:37.962583Z",
     "shell.execute_reply": "2025-09-24T08:13:37.961460Z"
    },
    "papermill": {
     "duration": 0.351302,
     "end_time": "2025-09-24T08:13:37.964070",
     "exception": false,
     "start_time": "2025-09-24T08:13:37.612768",
     "status": "completed"
    },
    "tags": []
   },
   "outputs": [
    {
     "name": "stdout",
     "output_type": "stream",
     "text": [
      "Dataset shape: (33126, 10)\n",
      "Classes: class\n",
      "benign      32542\n",
      "melanoma      584\n",
      "Name: count, dtype: int64\n"
     ]
    },
    {
     "data": {
      "text/html": [
       "<div>\n",
       "<style scoped>\n",
       "    .dataframe tbody tr th:only-of-type {\n",
       "        vertical-align: middle;\n",
       "    }\n",
       "\n",
       "    .dataframe tbody tr th {\n",
       "        vertical-align: top;\n",
       "    }\n",
       "\n",
       "    .dataframe thead th {\n",
       "        text-align: right;\n",
       "    }\n",
       "</style>\n",
       "<table border=\"1\" class=\"dataframe\">\n",
       "  <thead>\n",
       "    <tr style=\"text-align: right;\">\n",
       "      <th></th>\n",
       "      <th>image_name</th>\n",
       "      <th>patient_id</th>\n",
       "      <th>sex</th>\n",
       "      <th>age_approx</th>\n",
       "      <th>anatom_site_general_challenge</th>\n",
       "      <th>diagnosis</th>\n",
       "      <th>benign_malignant</th>\n",
       "      <th>target</th>\n",
       "      <th>image_path</th>\n",
       "      <th>class</th>\n",
       "    </tr>\n",
       "  </thead>\n",
       "  <tbody>\n",
       "    <tr>\n",
       "      <th>0</th>\n",
       "      <td>ISIC_2637011</td>\n",
       "      <td>IP_7279968</td>\n",
       "      <td>male</td>\n",
       "      <td>45.0</td>\n",
       "      <td>head/neck</td>\n",
       "      <td>unknown</td>\n",
       "      <td>benign</td>\n",
       "      <td>0</td>\n",
       "      <td>/kaggle/input/siim-isic-melanoma-classificatio...</td>\n",
       "      <td>benign</td>\n",
       "    </tr>\n",
       "    <tr>\n",
       "      <th>1</th>\n",
       "      <td>ISIC_0015719</td>\n",
       "      <td>IP_3075186</td>\n",
       "      <td>female</td>\n",
       "      <td>45.0</td>\n",
       "      <td>upper extremity</td>\n",
       "      <td>unknown</td>\n",
       "      <td>benign</td>\n",
       "      <td>0</td>\n",
       "      <td>/kaggle/input/siim-isic-melanoma-classificatio...</td>\n",
       "      <td>benign</td>\n",
       "    </tr>\n",
       "    <tr>\n",
       "      <th>2</th>\n",
       "      <td>ISIC_0052212</td>\n",
       "      <td>IP_2842074</td>\n",
       "      <td>female</td>\n",
       "      <td>50.0</td>\n",
       "      <td>lower extremity</td>\n",
       "      <td>nevus</td>\n",
       "      <td>benign</td>\n",
       "      <td>0</td>\n",
       "      <td>/kaggle/input/siim-isic-melanoma-classificatio...</td>\n",
       "      <td>benign</td>\n",
       "    </tr>\n",
       "    <tr>\n",
       "      <th>3</th>\n",
       "      <td>ISIC_0068279</td>\n",
       "      <td>IP_6890425</td>\n",
       "      <td>female</td>\n",
       "      <td>45.0</td>\n",
       "      <td>head/neck</td>\n",
       "      <td>unknown</td>\n",
       "      <td>benign</td>\n",
       "      <td>0</td>\n",
       "      <td>/kaggle/input/siim-isic-melanoma-classificatio...</td>\n",
       "      <td>benign</td>\n",
       "    </tr>\n",
       "    <tr>\n",
       "      <th>4</th>\n",
       "      <td>ISIC_0074268</td>\n",
       "      <td>IP_8723313</td>\n",
       "      <td>female</td>\n",
       "      <td>55.0</td>\n",
       "      <td>upper extremity</td>\n",
       "      <td>unknown</td>\n",
       "      <td>benign</td>\n",
       "      <td>0</td>\n",
       "      <td>/kaggle/input/siim-isic-melanoma-classificatio...</td>\n",
       "      <td>benign</td>\n",
       "    </tr>\n",
       "  </tbody>\n",
       "</table>\n",
       "</div>"
      ],
      "text/plain": [
       "     image_name  patient_id     sex  age_approx anatom_site_general_challenge  \\\n",
       "0  ISIC_2637011  IP_7279968    male        45.0                     head/neck   \n",
       "1  ISIC_0015719  IP_3075186  female        45.0               upper extremity   \n",
       "2  ISIC_0052212  IP_2842074  female        50.0               lower extremity   \n",
       "3  ISIC_0068279  IP_6890425  female        45.0                     head/neck   \n",
       "4  ISIC_0074268  IP_8723313  female        55.0               upper extremity   \n",
       "\n",
       "  diagnosis benign_malignant  target  \\\n",
       "0   unknown           benign       0   \n",
       "1   unknown           benign       0   \n",
       "2     nevus           benign       0   \n",
       "3   unknown           benign       0   \n",
       "4   unknown           benign       0   \n",
       "\n",
       "                                          image_path   class  \n",
       "0  /kaggle/input/siim-isic-melanoma-classificatio...  benign  \n",
       "1  /kaggle/input/siim-isic-melanoma-classificatio...  benign  \n",
       "2  /kaggle/input/siim-isic-melanoma-classificatio...  benign  \n",
       "3  /kaggle/input/siim-isic-melanoma-classificatio...  benign  \n",
       "4  /kaggle/input/siim-isic-melanoma-classificatio...  benign  "
      ]
     },
     "execution_count": 5,
     "metadata": {},
     "output_type": "execute_result"
    }
   ],
   "source": [
    "#Link CSV with Images\n",
    "df = pd.read_csv(CSV_PATH)\n",
    "df[\"image_path\"] = df[\"image_name\"].apply(lambda x: str(Path(DATASET_DIR) / f\"{x}.jpg\"))\n",
    "df[\"class\"] = df[\"target\"].apply(lambda x: \"melanoma\" if x==1 else \"benign\")\n",
    "\n",
    "print(\"Dataset shape:\", df.shape)\n",
    "print(\"Classes:\", df[\"class\"].value_counts())\n",
    "df.head()\n"
   ]
  },
  {
   "cell_type": "code",
   "execution_count": 6,
   "id": "b4463882",
   "metadata": {
    "execution": {
     "iopub.execute_input": "2025-09-24T08:13:37.990182Z",
     "iopub.status.busy": "2025-09-24T08:13:37.989743Z",
     "iopub.status.idle": "2025-09-24T08:13:38.001898Z",
     "shell.execute_reply": "2025-09-24T08:13:38.000808Z"
    },
    "papermill": {
     "duration": 0.018605,
     "end_time": "2025-09-24T08:13:38.003695",
     "exception": false,
     "start_time": "2025-09-24T08:13:37.985090",
     "status": "completed"
    },
    "tags": []
   },
   "outputs": [],
   "source": [
    "#Preprocessing function\n",
    "def dull_razor_remove_hair(cv_img):\n",
    "    gray = cv2.cvtColor(cv_img, cv2.COLOR_BGR2GRAY)\n",
    "    kernel = cv2.getStructuringElement(cv2.MORPH_RECT, (9,9))\n",
    "    blackhat = cv2.morphologyEx(gray, cv2.MORPH_BLACKHAT, kernel)\n",
    "    _, thresh = cv2.threshold(blackhat, 10, 255, cv2.THRESH_BINARY)\n",
    "    dilated = cv2.dilate(thresh, cv2.getStructuringElement(cv2.MORPH_ELLIPSE,(3,3)), iterations=1)\n",
    "    return cv2.inpaint(cv_img, dilated, 1, cv2.INPAINT_TELEA)\n",
    "\n",
    "def correct_contrast_clahe(cv_img):\n",
    "    lab = cv2.cvtColor(cv_img, cv2.COLOR_BGR2LAB)\n",
    "    l,a,b = cv2.split(lab)\n",
    "    clahe = cv2.createCLAHE(clipLimit=2.0, tileGridSize=(8,8))\n",
    "    l_clahe = clahe.apply(l)\n",
    "    lab_clahe = cv2.merge((l_clahe,a,b))\n",
    "    return cv2.cvtColor(lab_clahe, cv2.COLOR_LAB2BGR)\n",
    "\n",
    "def center_crop(img_pil, scale=1.0):\n",
    "    w,h = img_pil.size\n",
    "    new_w, new_h = int(w*scale), int(h*scale)\n",
    "    left, top = (w-new_w)//2, (h-new_h)//2\n",
    "    return img_pil.crop((left, top, left+new_w, top+new_h))\n",
    "\n",
    "def process_and_save(inp_path, out_path, do_hair=True, do_clahe=True, crop_scale=1.0, size=IMAGE_SIZE):\n",
    "    try:\n",
    "        img_cv = cv2.imread(str(inp_path))\n",
    "        if img_cv is None: return False\n",
    "        if do_hair: img_cv = dull_razor_remove_hair(img_cv)\n",
    "        if do_clahe: img_cv = correct_contrast_clahe(img_cv)\n",
    "        img_rgb = cv2.cvtColor(img_cv, cv2.COLOR_BGR2RGB)\n",
    "        img_pil = Image.fromarray(img_rgb)\n",
    "        if crop_scale<1.0: img_pil = center_crop(img_pil, crop_scale)\n",
    "        img_pil = img_pil.resize(size, Image.BILINEAR)\n",
    "        out_path.parent.mkdir(parents=True, exist_ok=True)\n",
    "        img_pil.save(out_path, format=\"JPEG\", quality=95)\n",
    "        return True\n",
    "    except Exception as e:\n",
    "        print(\"Error:\", e)\n",
    "        return False\n"
   ]
  },
  {
   "cell_type": "code",
   "execution_count": 7,
   "id": "103096fe",
   "metadata": {
    "execution": {
     "iopub.execute_input": "2025-09-24T08:13:38.013392Z",
     "iopub.status.busy": "2025-09-24T08:13:38.012239Z",
     "iopub.status.idle": "2025-09-24T16:28:21.617824Z",
     "shell.execute_reply": "2025-09-24T16:28:21.615145Z"
    },
    "papermill": {
     "duration": 29683.613785,
     "end_time": "2025-09-24T16:28:21.621298",
     "exception": false,
     "start_time": "2025-09-24T08:13:38.007513",
     "status": "completed"
    },
    "tags": []
   },
   "outputs": [
    {
     "name": "stdout",
     "output_type": "stream",
     "text": [
      "No checkpoint found. Starting fresh.\n"
     ]
    },
    {
     "name": "stderr",
     "output_type": "stream",
     "text": [
      "Processing images: 100%|██████████| 33126/33126 [8:14:43<00:00,  1.12it/s]"
     ]
    },
    {
     "name": "stdout",
     "output_type": "stream",
     "text": [
      "Preprocessing complete!\n"
     ]
    },
    {
     "name": "stderr",
     "output_type": "stream",
     "text": [
      "\n"
     ]
    }
   ],
   "source": [
    "import cv2\n",
    "import pandas as pd\n",
    "from pathlib import Path\n",
    "from tqdm import tqdm\n",
    "\n",
    "# Paths\n",
    "CSV_PATH = \"/kaggle/input/siim-isic-melanoma-classification/train.csv\"\n",
    "BASE_IMAGE_DIR = Path(\"/kaggle/input/siim-isic-melanoma-classification/jpeg/train/\")\n",
    "OUTPUT_DIR = Path(\"/kaggle/working/output\")\n",
    "OUTPUT_DIR.mkdir(parents=True, exist_ok=True)\n",
    "\n",
    "# Output dirs\n",
    "processed_dirs = {\n",
    "    \"original\": OUTPUT_DIR / \"original\",\n",
    "    \"crop75\": OUTPUT_DIR / \"crop75\",\n",
    "    \"crop50\": OUTPUT_DIR / \"crop50\"\n",
    "}\n",
    "for p in processed_dirs.values():\n",
    "    p.mkdir(parents=True, exist_ok=True)\n",
    "\n",
    "# Checkpoint CSV\n",
    "CHECKPOINT_FILE = OUTPUT_DIR / \"preprocess_progress.csv\"\n",
    "if CHECKPOINT_FILE.exists():\n",
    "    checkpoint_df = pd.read_csv(CHECKPOINT_FILE)\n",
    "    processed_images = set(checkpoint_df['image'].tolist())\n",
    "    print(f\"Resuming from checkpoint: {len(processed_images)} already processed\")\n",
    "else:\n",
    "    processed_images = set()\n",
    "    checkpoint_df = pd.DataFrame(columns=['image'])\n",
    "    print(\"No checkpoint found. Starting fresh.\")\n",
    "\n",
    "# Load image names\n",
    "df = pd.read_csv(CSV_PATH)\n",
    "image_names = [f\"{x}.jpg\" for x in df['image_name']]\n",
    "\n",
    "def dull_razor_fast(img):\n",
    "    gray = cv2.cvtColor(img, cv2.COLOR_RGB2GRAY)\n",
    "    kernel = cv2.getStructuringElement(cv2.MORPH_RECT, (17,17))\n",
    "    blackhat = cv2.morphologyEx(gray, cv2.MORPH_BLACKHAT, kernel)\n",
    "    _, mask = cv2.threshold(blackhat, 10, 255, cv2.THRESH_BINARY)\n",
    "    return cv2.inpaint(img, mask, 1, cv2.INPAINT_TELEA)\n",
    "\n",
    "def process_and_save(img, fname):\n",
    "    img = dull_razor_fast(img)\n",
    "    H, W, _ = img.shape\n",
    "    for scale, dirname in zip([1.0, 0.75, 0.5], [\"original\", \"crop75\", \"crop50\"]):\n",
    "        new_h, new_w = int(H*scale), int(W*scale)\n",
    "        start_h, start_w = (H-new_h)//2, (W-new_w)//2\n",
    "        cropped = img[start_h:start_h+new_h, start_w:start_w+new_w]\n",
    "        resized = cv2.resize(cropped, (224,224))\n",
    "        cv2.imwrite(str(processed_dirs[dirname]/fname), cv2.cvtColor(resized, cv2.COLOR_RGB2BGR))\n",
    "\n",
    "# Process images\n",
    "for fname in tqdm(image_names, desc=\"Processing images\"):\n",
    "    if fname in processed_images:  # skip if already done\n",
    "        continue\n",
    "\n",
    "    path = BASE_IMAGE_DIR / fname\n",
    "    img = cv2.imread(str(path))\n",
    "    if img is None:\n",
    "        continue\n",
    "\n",
    "    img = cv2.cvtColor(img, cv2.COLOR_BGR2RGB)\n",
    "    process_and_save(img, fname)\n",
    "\n",
    "    # Update checkpoint\n",
    "    checkpoint_df = pd.concat([checkpoint_df, pd.DataFrame({'image': [fname]})], ignore_index=True)\n",
    "    checkpoint_df.to_csv(CHECKPOINT_FILE, index=False)\n",
    "\n",
    "print(\"Preprocessing complete!\")\n"
   ]
  },
  {
   "cell_type": "code",
   "execution_count": 8,
   "id": "482a2fd4",
   "metadata": {
    "execution": {
     "iopub.execute_input": "2025-09-24T16:28:24.832983Z",
     "iopub.status.busy": "2025-09-24T16:28:24.832489Z",
     "iopub.status.idle": "2025-09-24T16:28:25.086176Z",
     "shell.execute_reply": "2025-09-24T16:28:25.084916Z"
    },
    "papermill": {
     "duration": 1.94696,
     "end_time": "2025-09-24T16:28:25.087648",
     "exception": false,
     "start_time": "2025-09-24T16:28:23.140688",
     "status": "completed"
    },
    "tags": []
   },
   "outputs": [
    {
     "name": "stdout",
     "output_type": "stream",
     "text": [
      "Resuming from checkpoint: 33126 already processed\n"
     ]
    },
    {
     "name": "stderr",
     "output_type": "stream",
     "text": [
      "Processing images: 100%|██████████| 33126/33126 [00:00<00:00, 2012289.12it/s]"
     ]
    },
    {
     "name": "stdout",
     "output_type": "stream",
     "text": [
      "Preprocessing complete!\n"
     ]
    },
    {
     "name": "stderr",
     "output_type": "stream",
     "text": [
      "\n"
     ]
    }
   ],
   "source": [
    "import cv2\n",
    "import pandas as pd\n",
    "from pathlib import Path\n",
    "from tqdm import tqdm\n",
    "\n",
    "# Paths\n",
    "CSV_PATH = \"/kaggle/input/siim-isic-melanoma-classification/train.csv\"\n",
    "BASE_IMAGE_DIR = Path(\"/kaggle/input/siim-isic-melanoma-classification/jpeg/train/\")\n",
    "OUTPUT_DIR = Path(\"/kaggle/working/output\")\n",
    "OUTPUT_DIR.mkdir(parents=True, exist_ok=True)\n",
    "\n",
    "# Output dirs\n",
    "processed_dirs = {\n",
    "    \"original\": OUTPUT_DIR / \"original\",\n",
    "    \"crop75\": OUTPUT_DIR / \"crop75\",\n",
    "    \"crop50\": OUTPUT_DIR / \"crop50\"\n",
    "}\n",
    "for p in processed_dirs.values():\n",
    "    p.mkdir(parents=True, exist_ok=True)\n",
    "\n",
    "# Checkpoint CSV\n",
    "CHECKPOINT_FILE = OUTPUT_DIR / \"preprocess_progress.csv\"\n",
    "if CHECKPOINT_FILE.exists():\n",
    "    checkpoint_df = pd.read_csv(CHECKPOINT_FILE)\n",
    "    processed_images = set(checkpoint_df['image'].tolist())\n",
    "    print(f\"Resuming from checkpoint: {len(processed_images)} already processed\")\n",
    "else:\n",
    "    processed_images = set()\n",
    "    checkpoint_df = pd.DataFrame(columns=['image'])\n",
    "    print(\"No checkpoint found. Starting fresh.\")\n",
    "\n",
    "# Load image names\n",
    "df = pd.read_csv(CSV_PATH)\n",
    "image_names = [f\"{x}.jpg\" for x in df['image_name']]\n",
    "\n",
    "def dull_razor_fast(img):\n",
    "    gray = cv2.cvtColor(img, cv2.COLOR_RGB2GRAY)\n",
    "    kernel = cv2.getStructuringElement(cv2.MORPH_RECT, (17,17))\n",
    "    blackhat = cv2.morphologyEx(gray, cv2.MORPH_BLACKHAT, kernel)\n",
    "    _, mask = cv2.threshold(blackhat, 10, 255, cv2.THRESH_BINARY)\n",
    "    return cv2.inpaint(img, mask, 1, cv2.INPAINT_TELEA)\n",
    "\n",
    "def process_and_save(img, fname):\n",
    "    img = dull_razor_fast(img)\n",
    "    H, W, _ = img.shape\n",
    "    for scale, dirname in zip([1.0, 0.75, 0.5], [\"original\", \"crop75\", \"crop50\"]):\n",
    "        new_h, new_w = int(H*scale), int(W*scale)\n",
    "        start_h, start_w = (H-new_h)//2, (W-new_w)//2\n",
    "        cropped = img[start_h:start_h+new_h, start_w:start_w+new_w]\n",
    "        resized = cv2.resize(cropped, (224,224))\n",
    "        cv2.imwrite(str(processed_dirs[dirname]/fname), cv2.cvtColor(resized, cv2.COLOR_RGB2BGR))\n",
    "\n",
    "# Process images\n",
    "for fname in tqdm(image_names, desc=\"Processing images\"):\n",
    "    if fname in processed_images:  # skip if already done\n",
    "        continue\n",
    "\n",
    "    path = BASE_IMAGE_DIR / fname\n",
    "    img = cv2.imread(str(path))\n",
    "    if img is None:\n",
    "        continue\n",
    "\n",
    "    img = cv2.cvtColor(img, cv2.COLOR_BGR2RGB)\n",
    "    process_and_save(img, fname)\n",
    "\n",
    "    # Update checkpoint\n",
    "    checkpoint_df = pd.concat([checkpoint_df, pd.DataFrame({'image': [fname]})], ignore_index=True)\n",
    "    checkpoint_df.to_csv(CHECKPOINT_FILE, index=False)\n",
    "\n",
    "print(\"Preprocessing complete!\")\n"
   ]
  },
  {
   "cell_type": "code",
   "execution_count": null,
   "id": "3d49f515",
   "metadata": {
    "papermill": {
     "duration": 1.687805,
     "end_time": "2025-09-24T16:28:28.290746",
     "exception": false,
     "start_time": "2025-09-24T16:28:26.602941",
     "status": "completed"
    },
    "tags": []
   },
   "outputs": [],
   "source": []
  },
  {
   "cell_type": "code",
   "execution_count": 9,
   "id": "e1c90cbc",
   "metadata": {
    "execution": {
     "iopub.execute_input": "2025-09-24T16:28:31.474566Z",
     "iopub.status.busy": "2025-09-24T16:28:31.474203Z",
     "iopub.status.idle": "2025-09-24T16:28:33.280910Z",
     "shell.execute_reply": "2025-09-24T16:28:33.279886Z"
    },
    "papermill": {
     "duration": 3.47071,
     "end_time": "2025-09-24T16:28:33.282447",
     "exception": false,
     "start_time": "2025-09-24T16:28:29.811737",
     "status": "completed"
    },
    "tags": []
   },
   "outputs": [
    {
     "name": "stdout",
     "output_type": "stream",
     "text": [
      "🔍 Checking preprocessed images...\n",
      "\n",
      "original: 33126/33126\n",
      "crop75: 33126/33126\n",
      "crop50: 33126/33126\n",
      "\n",
      "✅ Preprocessing completed successfully! All 33126 images exist in every folder.\n"
     ]
    }
   ],
   "source": [
    "from pathlib import Path\n",
    "\n",
    "# Expected total\n",
    "TOTAL_IMAGES = 33126  \n",
    "\n",
    "# Output directory\n",
    "OUTPUT_DIR = Path(\"/kaggle/working/output\")\n",
    "processed_dirs = {\n",
    "    \"original\": OUTPUT_DIR / \"original\",\n",
    "    \"crop75\": OUTPUT_DIR / \"crop75\",\n",
    "    \"crop50\": OUTPUT_DIR / \"crop50\"\n",
    "}\n",
    "\n",
    "print(\"🔍 Checking preprocessed images...\\n\")\n",
    "all_ok = True\n",
    "\n",
    "for name, folder in processed_dirs.items():\n",
    "    count = sum(1 for f in folder.rglob(\"*.jpg\"))\n",
    "    print(f\"{name}: {count}/{TOTAL_IMAGES}\")\n",
    "    if count != TOTAL_IMAGES:\n",
    "        all_ok = False\n",
    "\n",
    "if all_ok:\n",
    "    print(\"\\n✅ Preprocessing completed successfully! All 33126 images exist in every folder.\")\n",
    "else:\n",
    "    print(\"\\n⚠️ Some images are missing. Preprocessing not fully complete.\")\n"
   ]
  },
  {
   "cell_type": "code",
   "execution_count": 10,
   "id": "e7103ac9",
   "metadata": {
    "execution": {
     "iopub.execute_input": "2025-09-24T16:28:36.463924Z",
     "iopub.status.busy": "2025-09-24T16:28:36.463605Z",
     "iopub.status.idle": "2025-09-24T16:30:30.750301Z",
     "shell.execute_reply": "2025-09-24T16:30:30.749029Z"
    },
    "papermill": {
     "duration": 115.783682,
     "end_time": "2025-09-24T16:30:30.752476",
     "exception": false,
     "start_time": "2025-09-24T16:28:34.968794",
     "status": "completed"
    },
    "tags": []
   },
   "outputs": [],
   "source": [
    "!tar -czf output_preprocessed.tar.gz -C /kaggle/working output\n"
   ]
  }
 ],
 "metadata": {
  "kaggle": {
   "accelerator": "none",
   "dataSources": [
    {
     "databundleVersionId": 1222630,
     "sourceId": 20270,
     "sourceType": "competition"
    }
   ],
   "dockerImageVersionId": 31089,
   "isGpuEnabled": false,
   "isInternetEnabled": false,
   "language": "python",
   "sourceType": "notebook"
  },
  "kernelspec": {
   "display_name": "Python 3",
   "language": "python",
   "name": "python3"
  },
  "language_info": {
   "codemirror_mode": {
    "name": "ipython",
    "version": 3
   },
   "file_extension": ".py",
   "mimetype": "text/x-python",
   "name": "python",
   "nbconvert_exporter": "python",
   "pygments_lexer": "ipython3",
   "version": "3.11.13"
  },
  "papermill": {
   "default_parameters": {},
   "duration": 29845.25857,
   "end_time": "2025-09-24T16:30:36.023434",
   "environment_variables": {},
   "exception": null,
   "input_path": "__notebook__.ipynb",
   "output_path": "__notebook__.ipynb",
   "parameters": {},
   "start_time": "2025-09-24T08:13:10.764864",
   "version": "2.6.0"
  }
 },
 "nbformat": 4,
 "nbformat_minor": 5
}
