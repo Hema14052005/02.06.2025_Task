{
 "cells": [
  {
   "cell_type": "code",
   "execution_count": 1,
   "id": "5f20faad",
   "metadata": {
    "_cell_guid": "b1076dfc-b9ad-4769-8c92-a6c4dae69d19",
    "_uuid": "8f2839f25d086af736a60e9eeb907d3b93b6e0e5",
    "execution": {
     "iopub.execute_input": "2025-09-24T08:11:20.602219Z",
     "iopub.status.busy": "2025-09-24T08:11:20.601792Z",
     "iopub.status.idle": "2025-09-24T08:11:22.745770Z",
     "shell.execute_reply": "2025-09-24T08:11:22.744552Z"
    },
    "papermill": {
     "duration": 2.1533,
     "end_time": "2025-09-24T08:11:22.749639",
     "exception": false,
     "start_time": "2025-09-24T08:11:20.596339",
     "status": "completed"
    },
    "tags": []
   },
   "outputs": [
    {
     "name": "stdout",
     "output_type": "stream",
     "text": [
      "Shape of dataset: (33126, 8)\n",
      "\n",
      "Features (columns):\n",
      "['image_name', 'patient_id', 'sex', 'age_approx', 'anatom_site_general_challenge', 'diagnosis', 'benign_malignant', 'target']\n",
      "\n",
      "Sample rows:\n",
      "     image_name  patient_id     sex  age_approx anatom_site_general_challenge  \\\n",
      "0  ISIC_2637011  IP_7279968    male        45.0                     head/neck   \n",
      "1  ISIC_0015719  IP_3075186  female        45.0               upper extremity   \n",
      "2  ISIC_0052212  IP_2842074  female        50.0               lower extremity   \n",
      "3  ISIC_0068279  IP_6890425  female        45.0                     head/neck   \n",
      "4  ISIC_0074268  IP_8723313  female        55.0               upper extremity   \n",
      "\n",
      "  diagnosis benign_malignant  target  \n",
      "0   unknown           benign       0  \n",
      "1   unknown           benign       0  \n",
      "2     nevus           benign       0  \n",
      "3   unknown           benign       0  \n",
      "4   unknown           benign       0  \n"
     ]
    }
   ],
   "source": [
    "import pandas as pd\n",
    "csv_path = \"/kaggle/input/siim-isic-melanoma-classification/train.csv\"\n",
    "df = pd.read_csv(csv_path)\n",
    "# Shape (rows, columns)\n",
    "print(\"Shape of dataset:\", df.shape)\n",
    "print(\"\\nFeatures (columns):\")\n",
    "print(df.columns.tolist())\n",
    "# Show first 5 rows\n",
    "print(\"\\nSample rows:\")\n",
    "print(df.head())\n"
   ]
  },
  {
   "cell_type": "code",
   "execution_count": 2,
   "id": "01c800b5",
   "metadata": {
    "execution": {
     "iopub.execute_input": "2025-09-24T08:11:22.758686Z",
     "iopub.status.busy": "2025-09-24T08:11:22.758369Z",
     "iopub.status.idle": "2025-09-24T08:11:23.229877Z",
     "shell.execute_reply": "2025-09-24T08:11:23.228739Z"
    },
    "papermill": {
     "duration": 0.47801,
     "end_time": "2025-09-24T08:11:23.231707",
     "exception": false,
     "start_time": "2025-09-24T08:11:22.753697",
     "status": "completed"
    },
    "tags": []
   },
   "outputs": [
    {
     "name": "stdout",
     "output_type": "stream",
     "text": [
      "Total image files found: 33126\n",
      "First 5 files: [PosixPath('/kaggle/input/siim-isic-melanoma-classification/jpeg/train/ISIC_2801761.jpg'), PosixPath('/kaggle/input/siim-isic-melanoma-classification/jpeg/train/ISIC_4442506.jpg'), PosixPath('/kaggle/input/siim-isic-melanoma-classification/jpeg/train/ISIC_0375775.jpg'), PosixPath('/kaggle/input/siim-isic-melanoma-classification/jpeg/train/ISIC_9054603.jpg'), PosixPath('/kaggle/input/siim-isic-melanoma-classification/jpeg/train/ISIC_1691175.jpg')]\n"
     ]
    }
   ],
   "source": [
    "import os\n",
    "from pathlib import Path\n",
    "\n",
    "DATASET_DIR = \"/kaggle/input/siim-isic-melanoma-classification/jpeg/train\"\n",
    "\n",
    "files = list(Path(DATASET_DIR).glob(\"*.jpg\"))\n",
    "print(\"Total image files found:\", len(files))\n",
    "print(\"First 5 files:\", files[:5])\n"
   ]
  },
  {
   "cell_type": "code",
   "execution_count": 3,
   "id": "908df70d",
   "metadata": {
    "execution": {
     "iopub.execute_input": "2025-09-24T08:11:23.239800Z",
     "iopub.status.busy": "2025-09-24T08:11:23.239497Z",
     "iopub.status.idle": "2025-09-24T08:11:23.557769Z",
     "shell.execute_reply": "2025-09-24T08:11:23.556565Z"
    },
    "papermill": {
     "duration": 0.32425,
     "end_time": "2025-09-24T08:11:23.559519",
     "exception": false,
     "start_time": "2025-09-24T08:11:23.235269",
     "status": "completed"
    },
    "tags": []
   },
   "outputs": [
    {
     "name": "stdout",
     "output_type": "stream",
     "text": [
      "     image_name  patient_id     sex  age_approx anatom_site_general_challenge  \\\n",
      "0  ISIC_2637011  IP_7279968    male        45.0                     head/neck   \n",
      "1  ISIC_0015719  IP_3075186  female        45.0               upper extremity   \n",
      "2  ISIC_0052212  IP_2842074  female        50.0               lower extremity   \n",
      "3  ISIC_0068279  IP_6890425  female        45.0                     head/neck   \n",
      "4  ISIC_0074268  IP_8723313  female        55.0               upper extremity   \n",
      "\n",
      "  diagnosis benign_malignant  target  \\\n",
      "0   unknown           benign       0   \n",
      "1   unknown           benign       0   \n",
      "2     nevus           benign       0   \n",
      "3   unknown           benign       0   \n",
      "4   unknown           benign       0   \n",
      "\n",
      "                                          image_path  \n",
      "0  /kaggle/input/siim-isic-melanoma-classificatio...  \n",
      "1  /kaggle/input/siim-isic-melanoma-classificatio...  \n",
      "2  /kaggle/input/siim-isic-melanoma-classificatio...  \n",
      "3  /kaggle/input/siim-isic-melanoma-classificatio...  \n",
      "4  /kaggle/input/siim-isic-melanoma-classificatio...  \n"
     ]
    }
   ],
   "source": [
    "import pandas as pd\n",
    "from pathlib import Path\n",
    "\n",
    "csv_path = \"/kaggle/input/siim-isic-melanoma-classification/train.csv\"\n",
    "df = pd.read_csv(csv_path)\n",
    "# Add full image path column\n",
    "DATASET_DIR = \"/kaggle/input/siim-isic-melanoma-classification/jpeg/train\"\n",
    "df[\"image_path\"] = df[\"image_name\"].apply(lambda x: str(Path(DATASET_DIR) / f\"{x}.jpg\"))\n",
    "\n",
    "print(df.head())\n"
   ]
  },
  {
   "cell_type": "code",
   "execution_count": 4,
   "id": "3a0be23e",
   "metadata": {
    "execution": {
     "iopub.execute_input": "2025-09-24T08:11:23.568764Z",
     "iopub.status.busy": "2025-09-24T08:11:23.568402Z",
     "iopub.status.idle": "2025-09-24T08:11:43.014143Z",
     "shell.execute_reply": "2025-09-24T08:11:43.012936Z"
    },
    "papermill": {
     "duration": 19.452473,
     "end_time": "2025-09-24T08:11:43.016005",
     "exception": false,
     "start_time": "2025-09-24T08:11:23.563532",
     "status": "completed"
    },
    "tags": []
   },
   "outputs": [
    {
     "name": "stderr",
     "output_type": "stream",
     "text": [
      "2025-09-24 08:11:25.790295: E external/local_xla/xla/stream_executor/cuda/cuda_fft.cc:477] Unable to register cuFFT factory: Attempting to register factory for plugin cuFFT when one has already been registered\n",
      "WARNING: All log messages before absl::InitializeLog() is called are written to STDERR\n",
      "E0000 00:00:1758701486.040110      13 cuda_dnn.cc:8310] Unable to register cuDNN factory: Attempting to register factory for plugin cuDNN when one has already been registered\n",
      "E0000 00:00:1758701486.114418      13 cuda_blas.cc:1418] Unable to register cuBLAS factory: Attempting to register factory for plugin cuBLAS when one has already been registered\n"
     ]
    }
   ],
   "source": [
    "#1.Imports + Config\n",
    "import os, shutil, hashlib\n",
    "from pathlib import Path\n",
    "from PIL import Image\n",
    "import numpy as np\n",
    "import cv2\n",
    "import pandas as pd\n",
    "from tensorflow.keras.preprocessing.image import ImageDataGenerator, img_to_array, array_to_img, load_img, save_img\n",
    "\n",
    "# Configuration\n",
    "CSV_PATH = \"/kaggle/input/siim-isic-melanoma-classification/train.csv\"\n",
    "DATASET_DIR = \"/kaggle/input/siim-isic-melanoma-classification/jpeg/train\"\n",
    "OUTPUT_DIR = Path(\"/kaggle/working/output\")\n",
    "\n",
    "IMAGE_SIZE = (224, 224)   \n",
    "\n",
    "AUGMENT_TO_BALANCE = True\n",
    "MAX_AUG_PER_IMAGE = 3\n",
    "TARGET_PER_CLASS = 2000\n",
    "\n",
    "os.makedirs(OUTPUT_DIR, exist_ok=True)\n",
    "quarantine_dir = Path(OUTPUT_DIR) / \"quarantine\"\n",
    "quarantine_dir.mkdir(parents=True, exist_ok=True)\n"
   ]
  },
  {
   "cell_type": "code",
   "execution_count": 5,
   "id": "52938a84",
   "metadata": {
    "execution": {
     "iopub.execute_input": "2025-09-24T08:11:43.025442Z",
     "iopub.status.busy": "2025-09-24T08:11:43.024713Z",
     "iopub.status.idle": "2025-09-24T08:11:43.363063Z",
     "shell.execute_reply": "2025-09-24T08:11:43.362067Z"
    },
    "papermill": {
     "duration": 0.345092,
     "end_time": "2025-09-24T08:11:43.364806",
     "exception": false,
     "start_time": "2025-09-24T08:11:43.019714",
     "status": "completed"
    },
    "tags": []
   },
   "outputs": [
    {
     "name": "stdout",
     "output_type": "stream",
     "text": [
      "Dataset shape: (33126, 10)\n",
      "Classes: class\n",
      "benign      32542\n",
      "melanoma      584\n",
      "Name: count, dtype: int64\n"
     ]
    },
    {
     "data": {
      "text/html": [
       "<div>\n",
       "<style scoped>\n",
       "    .dataframe tbody tr th:only-of-type {\n",
       "        vertical-align: middle;\n",
       "    }\n",
       "\n",
       "    .dataframe tbody tr th {\n",
       "        vertical-align: top;\n",
       "    }\n",
       "\n",
       "    .dataframe thead th {\n",
       "        text-align: right;\n",
       "    }\n",
       "</style>\n",
       "<table border=\"1\" class=\"dataframe\">\n",
       "  <thead>\n",
       "    <tr style=\"text-align: right;\">\n",
       "      <th></th>\n",
       "      <th>image_name</th>\n",
       "      <th>patient_id</th>\n",
       "      <th>sex</th>\n",
       "      <th>age_approx</th>\n",
       "      <th>anatom_site_general_challenge</th>\n",
       "      <th>diagnosis</th>\n",
       "      <th>benign_malignant</th>\n",
       "      <th>target</th>\n",
       "      <th>image_path</th>\n",
       "      <th>class</th>\n",
       "    </tr>\n",
       "  </thead>\n",
       "  <tbody>\n",
       "    <tr>\n",
       "      <th>0</th>\n",
       "      <td>ISIC_2637011</td>\n",
       "      <td>IP_7279968</td>\n",
       "      <td>male</td>\n",
       "      <td>45.0</td>\n",
       "      <td>head/neck</td>\n",
       "      <td>unknown</td>\n",
       "      <td>benign</td>\n",
       "      <td>0</td>\n",
       "      <td>/kaggle/input/siim-isic-melanoma-classificatio...</td>\n",
       "      <td>benign</td>\n",
       "    </tr>\n",
       "    <tr>\n",
       "      <th>1</th>\n",
       "      <td>ISIC_0015719</td>\n",
       "      <td>IP_3075186</td>\n",
       "      <td>female</td>\n",
       "      <td>45.0</td>\n",
       "      <td>upper extremity</td>\n",
       "      <td>unknown</td>\n",
       "      <td>benign</td>\n",
       "      <td>0</td>\n",
       "      <td>/kaggle/input/siim-isic-melanoma-classificatio...</td>\n",
       "      <td>benign</td>\n",
       "    </tr>\n",
       "    <tr>\n",
       "      <th>2</th>\n",
       "      <td>ISIC_0052212</td>\n",
       "      <td>IP_2842074</td>\n",
       "      <td>female</td>\n",
       "      <td>50.0</td>\n",
       "      <td>lower extremity</td>\n",
       "      <td>nevus</td>\n",
       "      <td>benign</td>\n",
       "      <td>0</td>\n",
       "      <td>/kaggle/input/siim-isic-melanoma-classificatio...</td>\n",
       "      <td>benign</td>\n",
       "    </tr>\n",
       "    <tr>\n",
       "      <th>3</th>\n",
       "      <td>ISIC_0068279</td>\n",
       "      <td>IP_6890425</td>\n",
       "      <td>female</td>\n",
       "      <td>45.0</td>\n",
       "      <td>head/neck</td>\n",
       "      <td>unknown</td>\n",
       "      <td>benign</td>\n",
       "      <td>0</td>\n",
       "      <td>/kaggle/input/siim-isic-melanoma-classificatio...</td>\n",
       "      <td>benign</td>\n",
       "    </tr>\n",
       "    <tr>\n",
       "      <th>4</th>\n",
       "      <td>ISIC_0074268</td>\n",
       "      <td>IP_8723313</td>\n",
       "      <td>female</td>\n",
       "      <td>55.0</td>\n",
       "      <td>upper extremity</td>\n",
       "      <td>unknown</td>\n",
       "      <td>benign</td>\n",
       "      <td>0</td>\n",
       "      <td>/kaggle/input/siim-isic-melanoma-classificatio...</td>\n",
       "      <td>benign</td>\n",
       "    </tr>\n",
       "  </tbody>\n",
       "</table>\n",
       "</div>"
      ],
      "text/plain": [
       "     image_name  patient_id     sex  age_approx anatom_site_general_challenge  \\\n",
       "0  ISIC_2637011  IP_7279968    male        45.0                     head/neck   \n",
       "1  ISIC_0015719  IP_3075186  female        45.0               upper extremity   \n",
       "2  ISIC_0052212  IP_2842074  female        50.0               lower extremity   \n",
       "3  ISIC_0068279  IP_6890425  female        45.0                     head/neck   \n",
       "4  ISIC_0074268  IP_8723313  female        55.0               upper extremity   \n",
       "\n",
       "  diagnosis benign_malignant  target  \\\n",
       "0   unknown           benign       0   \n",
       "1   unknown           benign       0   \n",
       "2     nevus           benign       0   \n",
       "3   unknown           benign       0   \n",
       "4   unknown           benign       0   \n",
       "\n",
       "                                          image_path   class  \n",
       "0  /kaggle/input/siim-isic-melanoma-classificatio...  benign  \n",
       "1  /kaggle/input/siim-isic-melanoma-classificatio...  benign  \n",
       "2  /kaggle/input/siim-isic-melanoma-classificatio...  benign  \n",
       "3  /kaggle/input/siim-isic-melanoma-classificatio...  benign  \n",
       "4  /kaggle/input/siim-isic-melanoma-classificatio...  benign  "
      ]
     },
     "execution_count": 5,
     "metadata": {},
     "output_type": "execute_result"
    }
   ],
   "source": [
    "#Link CSV with Images\n",
    "df = pd.read_csv(CSV_PATH)\n",
    "df[\"image_path\"] = df[\"image_name\"].apply(lambda x: str(Path(DATASET_DIR) / f\"{x}.jpg\"))\n",
    "df[\"class\"] = df[\"target\"].apply(lambda x: \"melanoma\" if x==1 else \"benign\")\n",
    "\n",
    "print(\"Dataset shape:\", df.shape)\n",
    "print(\"Classes:\", df[\"class\"].value_counts())\n",
    "df.head()\n"
   ]
  },
  {
   "cell_type": "code",
   "execution_count": 6,
   "id": "65ff3799",
   "metadata": {
    "execution": {
     "iopub.execute_input": "2025-09-24T08:11:43.375143Z",
     "iopub.status.busy": "2025-09-24T08:11:43.374014Z",
     "iopub.status.idle": "2025-09-24T08:11:43.385829Z",
     "shell.execute_reply": "2025-09-24T08:11:43.384716Z"
    },
    "papermill": {
     "duration": 0.019,
     "end_time": "2025-09-24T08:11:43.387987",
     "exception": false,
     "start_time": "2025-09-24T08:11:43.368987",
     "status": "completed"
    },
    "tags": []
   },
   "outputs": [],
   "source": [
    "#Preprocessing function\n",
    "def dull_razor_remove_hair(cv_img):\n",
    "    gray = cv2.cvtColor(cv_img, cv2.COLOR_BGR2GRAY)\n",
    "    kernel = cv2.getStructuringElement(cv2.MORPH_RECT, (9,9))\n",
    "    blackhat = cv2.morphologyEx(gray, cv2.MORPH_BLACKHAT, kernel)\n",
    "    _, thresh = cv2.threshold(blackhat, 10, 255, cv2.THRESH_BINARY)\n",
    "    dilated = cv2.dilate(thresh, cv2.getStructuringElement(cv2.MORPH_ELLIPSE,(3,3)), iterations=1)\n",
    "    return cv2.inpaint(cv_img, dilated, 1, cv2.INPAINT_TELEA)\n",
    "\n",
    "def correct_contrast_clahe(cv_img):\n",
    "    lab = cv2.cvtColor(cv_img, cv2.COLOR_BGR2LAB)\n",
    "    l,a,b = cv2.split(lab)\n",
    "    clahe = cv2.createCLAHE(clipLimit=2.0, tileGridSize=(8,8))\n",
    "    l_clahe = clahe.apply(l)\n",
    "    lab_clahe = cv2.merge((l_clahe,a,b))\n",
    "    return cv2.cvtColor(lab_clahe, cv2.COLOR_LAB2BGR)\n",
    "\n",
    "def center_crop(img_pil, scale=1.0):\n",
    "    w,h = img_pil.size\n",
    "    new_w, new_h = int(w*scale), int(h*scale)\n",
    "    left, top = (w-new_w)//2, (h-new_h)//2\n",
    "    return img_pil.crop((left, top, left+new_w, top+new_h))\n",
    "\n",
    "def process_and_save(inp_path, out_path, do_hair=True, do_clahe=True, crop_scale=1.0, size=IMAGE_SIZE):\n",
    "    try:\n",
    "        img_cv = cv2.imread(str(inp_path))\n",
    "        if img_cv is None: return False\n",
    "        if do_hair: img_cv = dull_razor_remove_hair(img_cv)\n",
    "        if do_clahe: img_cv = correct_contrast_clahe(img_cv)\n",
    "        img_rgb = cv2.cvtColor(img_cv, cv2.COLOR_BGR2RGB)\n",
    "        img_pil = Image.fromarray(img_rgb)\n",
    "        if crop_scale<1.0: img_pil = center_crop(img_pil, crop_scale)\n",
    "        img_pil = img_pil.resize(size, Image.BILINEAR)\n",
    "        out_path.parent.mkdir(parents=True, exist_ok=True)\n",
    "        img_pil.save(out_path, format=\"JPEG\", quality=95)\n",
    "        return True\n",
    "    except Exception as e:\n",
    "        print(\"Error:\", e)\n",
    "        return False\n"
   ]
  },
  {
   "cell_type": "code",
   "execution_count": 7,
   "id": "047538ba",
   "metadata": {
    "execution": {
     "iopub.execute_input": "2025-09-24T08:11:43.399439Z",
     "iopub.status.busy": "2025-09-24T08:11:43.398459Z",
     "iopub.status.idle": "2025-09-24T17:22:37.187223Z",
     "shell.execute_reply": "2025-09-24T17:22:37.184350Z"
    },
    "papermill": {
     "duration": 33055.299248,
     "end_time": "2025-09-24T17:22:38.692205",
     "exception": false,
     "start_time": "2025-09-24T08:11:43.392957",
     "status": "completed"
    },
    "tags": []
   },
   "outputs": [
    {
     "name": "stdout",
     "output_type": "stream",
     "text": [
      "No checkpoint found. Starting fresh.\n"
     ]
    },
    {
     "name": "stderr",
     "output_type": "stream",
     "text": [
      "Processing images: 100%|██████████| 33126/33126 [9:10:53<00:00,  1.00it/s]"
     ]
    },
    {
     "name": "stdout",
     "output_type": "stream",
     "text": [
      "Preprocessing complete!\n"
     ]
    },
    {
     "name": "stderr",
     "output_type": "stream",
     "text": [
      "\n"
     ]
    }
   ],
   "source": [
    "import cv2\n",
    "import pandas as pd\n",
    "from pathlib import Path\n",
    "from tqdm import tqdm\n",
    "\n",
    "# Paths\n",
    "CSV_PATH = \"/kaggle/input/siim-isic-melanoma-classification/train.csv\"\n",
    "BASE_IMAGE_DIR = Path(\"/kaggle/input/siim-isic-melanoma-classification/jpeg/train/\")\n",
    "OUTPUT_DIR = Path(\"/kaggle/working/output\")\n",
    "OUTPUT_DIR.mkdir(parents=True, exist_ok=True)\n",
    "\n",
    "# Output dirs\n",
    "processed_dirs = {\n",
    "    \"original\": OUTPUT_DIR / \"original\",\n",
    "    \"crop75\": OUTPUT_DIR / \"crop75\",\n",
    "    \"crop50\": OUTPUT_DIR / \"crop50\"\n",
    "}\n",
    "for p in processed_dirs.values():\n",
    "    p.mkdir(parents=True, exist_ok=True)\n",
    "\n",
    "# Checkpoint CSV\n",
    "CHECKPOINT_FILE = OUTPUT_DIR / \"preprocess_progress.csv\"\n",
    "if CHECKPOINT_FILE.exists():\n",
    "    checkpoint_df = pd.read_csv(CHECKPOINT_FILE)\n",
    "    processed_images = set(checkpoint_df['image'].tolist())\n",
    "    print(f\"Resuming from checkpoint: {len(processed_images)} already processed\")\n",
    "else:\n",
    "    processed_images = set()\n",
    "    checkpoint_df = pd.DataFrame(columns=['image'])\n",
    "    print(\"No checkpoint found. Starting fresh.\")\n",
    "\n",
    "# Load image names\n",
    "df = pd.read_csv(CSV_PATH)\n",
    "image_names = [f\"{x}.jpg\" for x in df['image_name']]\n",
    "\n",
    "def dull_razor_fast(img):\n",
    "    gray = cv2.cvtColor(img, cv2.COLOR_RGB2GRAY)\n",
    "    kernel = cv2.getStructuringElement(cv2.MORPH_RECT, (17,17))\n",
    "    blackhat = cv2.morphologyEx(gray, cv2.MORPH_BLACKHAT, kernel)\n",
    "    _, mask = cv2.threshold(blackhat, 10, 255, cv2.THRESH_BINARY)\n",
    "    return cv2.inpaint(img, mask, 1, cv2.INPAINT_TELEA)\n",
    "\n",
    "def process_and_save(img, fname):\n",
    "    img = dull_razor_fast(img)\n",
    "    H, W, _ = img.shape\n",
    "    for scale, dirname in zip([1.0, 0.75, 0.5], [\"original\", \"crop75\", \"crop50\"]):\n",
    "        new_h, new_w = int(H*scale), int(W*scale)\n",
    "        start_h, start_w = (H-new_h)//2, (W-new_w)//2\n",
    "        cropped = img[start_h:start_h+new_h, start_w:start_w+new_w]\n",
    "        resized = cv2.resize(cropped, (224,224))\n",
    "        cv2.imwrite(str(processed_dirs[dirname]/fname), cv2.cvtColor(resized, cv2.COLOR_RGB2BGR))\n",
    "\n",
    "# Process images\n",
    "for fname in tqdm(image_names, desc=\"Processing images\"):\n",
    "    if fname in processed_images:  # skip if already done\n",
    "        continue\n",
    "\n",
    "    path = BASE_IMAGE_DIR / fname\n",
    "    img = cv2.imread(str(path))\n",
    "    if img is None:\n",
    "        continue\n",
    "\n",
    "    img = cv2.cvtColor(img, cv2.COLOR_BGR2RGB)\n",
    "    process_and_save(img, fname)\n",
    "\n",
    "    # Update checkpoint\n",
    "    checkpoint_df = pd.concat([checkpoint_df, pd.DataFrame({'image': [fname]})], ignore_index=True)\n",
    "    checkpoint_df.to_csv(CHECKPOINT_FILE, index=False)\n",
    "\n",
    "print(\"Preprocessing complete!\")\n"
   ]
  },
  {
   "cell_type": "code",
   "execution_count": 8,
   "id": "915096e9",
   "metadata": {
    "execution": {
     "iopub.execute_input": "2025-09-24T17:22:42.167449Z",
     "iopub.status.busy": "2025-09-24T17:22:42.166797Z",
     "iopub.status.idle": "2025-09-24T17:22:42.420491Z",
     "shell.execute_reply": "2025-09-24T17:22:42.419348Z"
    },
    "papermill": {
     "duration": 2.070126,
     "end_time": "2025-09-24T17:22:42.422054",
     "exception": false,
     "start_time": "2025-09-24T17:22:40.351928",
     "status": "completed"
    },
    "tags": []
   },
   "outputs": [
    {
     "name": "stdout",
     "output_type": "stream",
     "text": [
      "Resuming from checkpoint: 33126 already processed\n"
     ]
    },
    {
     "name": "stderr",
     "output_type": "stream",
     "text": [
      "Processing images: 100%|██████████| 33126/33126 [00:00<00:00, 1979406.98it/s]"
     ]
    },
    {
     "name": "stdout",
     "output_type": "stream",
     "text": [
      "Preprocessing complete!\n"
     ]
    },
    {
     "name": "stderr",
     "output_type": "stream",
     "text": [
      "\n"
     ]
    }
   ],
   "source": [
    "import cv2\n",
    "import pandas as pd\n",
    "from pathlib import Path\n",
    "from tqdm import tqdm\n",
    "\n",
    "# Paths\n",
    "CSV_PATH = \"/kaggle/input/siim-isic-melanoma-classification/train.csv\"\n",
    "BASE_IMAGE_DIR = Path(\"/kaggle/input/siim-isic-melanoma-classification/jpeg/train/\")\n",
    "OUTPUT_DIR = Path(\"/kaggle/working/output\")\n",
    "OUTPUT_DIR.mkdir(parents=True, exist_ok=True)\n",
    "\n",
    "# Output dirs\n",
    "processed_dirs = {\n",
    "    \"original\": OUTPUT_DIR / \"original\",\n",
    "    \"crop75\": OUTPUT_DIR / \"crop75\",\n",
    "    \"crop50\": OUTPUT_DIR / \"crop50\"\n",
    "}\n",
    "for p in processed_dirs.values():\n",
    "    p.mkdir(parents=True, exist_ok=True)\n",
    "\n",
    "# Checkpoint CSV\n",
    "CHECKPOINT_FILE = OUTPUT_DIR / \"preprocess_progress.csv\"\n",
    "if CHECKPOINT_FILE.exists():\n",
    "    checkpoint_df = pd.read_csv(CHECKPOINT_FILE)\n",
    "    processed_images = set(checkpoint_df['image'].tolist())\n",
    "    print(f\"Resuming from checkpoint: {len(processed_images)} already processed\")\n",
    "else:\n",
    "    processed_images = set()\n",
    "    checkpoint_df = pd.DataFrame(columns=['image'])\n",
    "    print(\"No checkpoint found. Starting fresh.\")\n",
    "\n",
    "# Load image names\n",
    "df = pd.read_csv(CSV_PATH)\n",
    "image_names = [f\"{x}.jpg\" for x in df['image_name']]\n",
    "\n",
    "def dull_razor_fast(img):\n",
    "    gray = cv2.cvtColor(img, cv2.COLOR_RGB2GRAY)\n",
    "    kernel = cv2.getStructuringElement(cv2.MORPH_RECT, (17,17))\n",
    "    blackhat = cv2.morphologyEx(gray, cv2.MORPH_BLACKHAT, kernel)\n",
    "    _, mask = cv2.threshold(blackhat, 10, 255, cv2.THRESH_BINARY)\n",
    "    return cv2.inpaint(img, mask, 1, cv2.INPAINT_TELEA)\n",
    "\n",
    "def process_and_save(img, fname):\n",
    "    img = dull_razor_fast(img)\n",
    "    H, W, _ = img.shape\n",
    "    for scale, dirname in zip([1.0, 0.75, 0.5], [\"original\", \"crop75\", \"crop50\"]):\n",
    "        new_h, new_w = int(H*scale), int(W*scale)\n",
    "        start_h, start_w = (H-new_h)//2, (W-new_w)//2\n",
    "        cropped = img[start_h:start_h+new_h, start_w:start_w+new_w]\n",
    "        resized = cv2.resize(cropped, (224,224))\n",
    "        cv2.imwrite(str(processed_dirs[dirname]/fname), cv2.cvtColor(resized, cv2.COLOR_RGB2BGR))\n",
    "\n",
    "# Process images\n",
    "for fname in tqdm(image_names, desc=\"Processing images\"):\n",
    "    if fname in processed_images:  # skip if already done\n",
    "        continue\n",
    "\n",
    "    path = BASE_IMAGE_DIR / fname\n",
    "    img = cv2.imread(str(path))\n",
    "    if img is None:\n",
    "        continue\n",
    "\n",
    "    img = cv2.cvtColor(img, cv2.COLOR_BGR2RGB)\n",
    "    process_and_save(img, fname)\n",
    "\n",
    "    # Update checkpoint\n",
    "    checkpoint_df = pd.concat([checkpoint_df, pd.DataFrame({'image': [fname]})], ignore_index=True)\n",
    "    checkpoint_df.to_csv(CHECKPOINT_FILE, index=False)\n",
    "\n",
    "print(\"Preprocessing complete!\")\n"
   ]
  },
  {
   "cell_type": "code",
   "execution_count": null,
   "id": "a1ff8995",
   "metadata": {
    "papermill": {
     "duration": 1.757193,
     "end_time": "2025-09-24T17:22:45.743528",
     "exception": false,
     "start_time": "2025-09-24T17:22:43.986335",
     "status": "completed"
    },
    "tags": []
   },
   "outputs": [],
   "source": []
  },
  {
   "cell_type": "code",
   "execution_count": 9,
   "id": "35d7963d",
   "metadata": {
    "execution": {
     "iopub.execute_input": "2025-09-24T17:22:49.150990Z",
     "iopub.status.busy": "2025-09-24T17:22:49.150635Z",
     "iopub.status.idle": "2025-09-24T17:22:50.985206Z",
     "shell.execute_reply": "2025-09-24T17:22:50.983343Z"
    },
    "papermill": {
     "duration": 3.642789,
     "end_time": "2025-09-24T17:22:50.988309",
     "exception": false,
     "start_time": "2025-09-24T17:22:47.345520",
     "status": "completed"
    },
    "tags": []
   },
   "outputs": [
    {
     "name": "stdout",
     "output_type": "stream",
     "text": [
      "🔍 Checking preprocessed images...\n",
      "\n",
      "original: 33126/33126\n",
      "crop75: 33126/33126\n",
      "crop50: 33126/33126\n",
      "\n",
      "✅ Preprocessing completed successfully! All 33126 images exist in every folder.\n"
     ]
    }
   ],
   "source": [
    "from pathlib import Path\n",
    "\n",
    "# Expected total\n",
    "TOTAL_IMAGES = 33126  \n",
    "\n",
    "# Output directory\n",
    "OUTPUT_DIR = Path(\"/kaggle/working/output\")\n",
    "processed_dirs = {\n",
    "    \"original\": OUTPUT_DIR / \"original\",\n",
    "    \"crop75\": OUTPUT_DIR / \"crop75\",\n",
    "    \"crop50\": OUTPUT_DIR / \"crop50\"\n",
    "}\n",
    "\n",
    "print(\"🔍 Checking preprocessed images...\\n\")\n",
    "all_ok = True\n",
    "\n",
    "for name, folder in processed_dirs.items():\n",
    "    count = sum(1 for f in folder.rglob(\"*.jpg\"))\n",
    "    print(f\"{name}: {count}/{TOTAL_IMAGES}\")\n",
    "    if count != TOTAL_IMAGES:\n",
    "        all_ok = False\n",
    "\n",
    "if all_ok:\n",
    "    print(\"\\n✅ Preprocessing completed successfully! All 33126 images exist in every folder.\")\n",
    "else:\n",
    "    print(\"\\n⚠️ Some images are missing. Preprocessing not fully complete.\")\n"
   ]
  },
  {
   "cell_type": "code",
   "execution_count": 10,
   "id": "212c2346",
   "metadata": {
    "execution": {
     "iopub.execute_input": "2025-09-24T17:22:54.418758Z",
     "iopub.status.busy": "2025-09-24T17:22:54.418397Z",
     "iopub.status.idle": "2025-09-24T17:23:02.596116Z",
     "shell.execute_reply": "2025-09-24T17:23:02.594186Z"
    },
    "papermill": {
     "duration": 10.020623,
     "end_time": "2025-09-24T17:23:02.599508",
     "exception": false,
     "start_time": "2025-09-24T17:22:52.578885",
     "status": "completed"
    },
    "tags": []
   },
   "outputs": [
    {
     "name": "stdout",
     "output_type": "stream",
     "text": [
      "Requirement already satisfied: kaggle in /usr/local/lib/python3.11/dist-packages (1.7.4.5)\r\n",
      "Requirement already satisfied: bleach in /usr/local/lib/python3.11/dist-packages (from kaggle) (6.2.0)\r\n",
      "Requirement already satisfied: certifi>=14.05.14 in /usr/local/lib/python3.11/dist-packages (from kaggle) (2025.6.15)\r\n",
      "Requirement already satisfied: charset-normalizer in /usr/local/lib/python3.11/dist-packages (from kaggle) (3.4.2)\r\n",
      "Requirement already satisfied: idna in /usr/local/lib/python3.11/dist-packages (from kaggle) (3.10)\r\n",
      "Requirement already satisfied: protobuf in /usr/local/lib/python3.11/dist-packages (from kaggle) (3.20.3)\r\n",
      "Requirement already satisfied: python-dateutil>=2.5.3 in /usr/local/lib/python3.11/dist-packages (from kaggle) (2.9.0.post0)\r\n",
      "Requirement already satisfied: python-slugify in /usr/local/lib/python3.11/dist-packages (from kaggle) (8.0.4)\r\n",
      "Requirement already satisfied: requests in /usr/local/lib/python3.11/dist-packages (from kaggle) (2.32.4)\r\n",
      "Requirement already satisfied: setuptools>=21.0.0 in /usr/local/lib/python3.11/dist-packages (from kaggle) (75.2.0)\r\n",
      "Requirement already satisfied: six>=1.10 in /usr/local/lib/python3.11/dist-packages (from kaggle) (1.17.0)\r\n",
      "Requirement already satisfied: text-unidecode in /usr/local/lib/python3.11/dist-packages (from kaggle) (1.3)\r\n",
      "Requirement already satisfied: tqdm in /usr/local/lib/python3.11/dist-packages (from kaggle) (4.67.1)\r\n",
      "Requirement already satisfied: urllib3>=1.15.1 in /usr/local/lib/python3.11/dist-packages (from kaggle) (2.5.0)\r\n",
      "Requirement already satisfied: webencodings in /usr/local/lib/python3.11/dist-packages (from kaggle) (0.5.1)\r\n"
     ]
    }
   ],
   "source": [
    "!pip install kaggle\n"
   ]
  },
  {
   "cell_type": "code",
   "execution_count": null,
   "id": "26cd83fc",
   "metadata": {
    "execution": {
     "iopub.execute_input": "2025-09-24T08:09:34.651091Z",
     "iopub.status.busy": "2025-09-24T08:09:34.649940Z",
     "iopub.status.idle": "2025-09-24T08:09:34.922319Z",
     "shell.execute_reply": "2025-09-24T08:09:34.921187Z",
     "shell.execute_reply.started": "2025-09-24T08:09:34.651047Z"
    },
    "papermill": {
     "duration": 1.780029,
     "end_time": "2025-09-24T17:23:05.986688",
     "exception": false,
     "start_time": "2025-09-24T17:23:04.206659",
     "status": "completed"
    },
    "tags": []
   },
   "outputs": [],
   "source": []
  },
  {
   "cell_type": "code",
   "execution_count": null,
   "id": "9e0b50a0",
   "metadata": {
    "execution": {
     "iopub.execute_input": "2025-09-24T08:10:03.889793Z",
     "iopub.status.busy": "2025-09-24T08:10:03.889331Z",
     "iopub.status.idle": "2025-09-24T08:10:05.048610Z",
     "shell.execute_reply": "2025-09-24T08:10:05.047227Z",
     "shell.execute_reply.started": "2025-09-24T08:10:03.889756Z"
    },
    "papermill": {
     "duration": 1.827223,
     "end_time": "2025-09-24T17:23:09.396435",
     "exception": false,
     "start_time": "2025-09-24T17:23:07.569212",
     "status": "completed"
    },
    "tags": []
   },
   "outputs": [],
   "source": []
  },
  {
   "cell_type": "code",
   "execution_count": null,
   "id": "74cf8aa4",
   "metadata": {
    "papermill": {
     "duration": 1.906574,
     "end_time": "2025-09-24T17:23:13.054984",
     "exception": false,
     "start_time": "2025-09-24T17:23:11.148410",
     "status": "completed"
    },
    "tags": []
   },
   "outputs": [],
   "source": []
  }
 ],
 "metadata": {
  "kaggle": {
   "accelerator": "none",
   "dataSources": [
    {
     "databundleVersionId": 1222630,
     "sourceId": 20270,
     "sourceType": "competition"
    }
   ],
   "dockerImageVersionId": 31089,
   "isGpuEnabled": false,
   "isInternetEnabled": false,
   "language": "python",
   "sourceType": "notebook"
  },
  "kernelspec": {
   "display_name": "Python 3",
   "language": "python",
   "name": "python3"
  },
  "language_info": {
   "codemirror_mode": {
    "name": "ipython",
    "version": 3
   },
   "file_extension": ".py",
   "mimetype": "text/x-python",
   "name": "python",
   "nbconvert_exporter": "python",
   "pygments_lexer": "ipython3",
   "version": "3.11.13"
  },
  "papermill": {
   "default_parameters": {},
   "duration": 33122.751344,
   "end_time": "2025-09-24T17:23:17.615899",
   "environment_variables": {},
   "exception": null,
   "input_path": "__notebook__.ipynb",
   "output_path": "__notebook__.ipynb",
   "parameters": {},
   "start_time": "2025-09-24T08:11:14.864555",
   "version": "2.6.0"
  }
 },
 "nbformat": 4,
 "nbformat_minor": 5
}
